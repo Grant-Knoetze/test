{
  "nbformat": 4,
  "nbformat_minor": 0,
  "metadata": {
    "colab": {
      "name": "Practice Program.ipynb",
      "provenance": [],
      "collapsed_sections": [],
      "authorship_tag": "ABX9TyNlhOOyFSTWX8HpO/otXkI1",
      "include_colab_link": true
    },
    "kernelspec": {
      "name": "python3",
      "display_name": "Python 3"
    }
  },
  "cells": [
    {
      "cell_type": "markdown",
      "metadata": {
        "id": "view-in-github",
        "colab_type": "text"
      },
      "source": [
        "<a href=\"https://colab.research.google.com/github/Grant-Knoetze/test/blob/master/Practice_Program.ipynb\" target=\"_parent\"><img src=\"https://colab.research.google.com/assets/colab-badge.svg\" alt=\"Open In Colab\"/></a>"
      ]
    },
    {
      "cell_type": "code",
      "metadata": {
        "id": "5-YuAmCcM53l",
        "outputId": "67eb7564-c9f4-411a-8da1-2533df75d64d",
        "colab": {
          "base_uri": "https://localhost:8080/"
        }
      },
      "source": [
        "# hello world\n",
        "def hello_world():\n",
        "  return universe\n",
        "  if hello_world: Yes\n",
        "  else: print(No)\n",
        "  print(hello_world(universe))\n",
        "  if (age>16):\n",
        "   print(\"Learn to drive\")\n",
        "\n",
        "   print(\"You cant drive\")\n",
        "   age = 17\n",
        "  \n",
        "   print(\"You cant drive\")\n",
        "\n",
        "universe = [1, 2, 3, 4, 5, 6, 7, 8, 9, 10]\n",
        "print(universe)\n",
        "\n",
        "\n",
        "\n"
      ],
      "execution_count": null,
      "outputs": [
        {
          "output_type": "stream",
          "text": [
            "[1, 2, 3, 4, 5, 6, 7, 8, 9, 10]\n"
          ],
          "name": "stdout"
        }
      ]
    },
    {
      "cell_type": "code",
      "metadata": {
        "id": "xaIPi-ddOuUu",
        "outputId": "930b87b7-6ecd-4b39-c680-68153926b8c9",
        "colab": {
          "base_uri": "https://localhost:8080/"
        }
      },
      "source": [
        "FirstTupleCamelstack = {\"Holy Smokes\", \"Can I kick it?\"}\n",
        "print(FirstTupleCamelstack)\n",
        "FirstTupleCamelstack.add(\"Gorilla\")\n"
      ],
      "execution_count": null,
      "outputs": [
        {
          "output_type": "stream",
          "text": [
            "{'Can I kick it?', 'Holy Smokes'}\n"
          ],
          "name": "stdout"
        }
      ]
    },
    {
      "cell_type": "code",
      "metadata": {
        "id": "fZMd_Fz3PCeF",
        "outputId": "f0c56585-ddd4-4bd7-9f17-b24218836c12",
        "colab": {
          "base_uri": "https://localhost:8080/"
        }
      },
      "source": [
        "age = 18\n",
        "if (age>16):\n",
        "  print(\"go on\")\n",
        "else:\n",
        "   print(\"stay on\")\n"
      ],
      "execution_count": 9,
      "outputs": [
        {
          "output_type": "stream",
          "text": [
            "go on\n"
          ],
          "name": "stdout"
        }
      ]
    },
    {
      "cell_type": "code",
      "metadata": {
        "id": "ARi8T8cvTKll",
        "outputId": "dc5b5bb9-79d2-4a25-d06d-e5bef6e5982a",
        "colab": {
          "base_uri": "https://localhost:8080/"
        }
      },
      "source": [
        "list = ['A','B','C']\n",
        "print(list)\n"
      ],
      "execution_count": 8,
      "outputs": [
        {
          "output_type": "stream",
          "text": [
            "['A', 'B', 'C']\n"
          ],
          "name": "stdout"
        }
      ]
    },
    {
      "cell_type": "code",
      "metadata": {
        "id": "v79q71s-x2TP"
      },
      "source": [
        "def first_func():\n",
        "  \"\"\"This is a documentation string\n",
        "     it describes what the function does\"\"\"\n",
        "     "
      ],
      "execution_count": 2,
      "outputs": []
    },
    {
      "cell_type": "code",
      "metadata": {
        "id": "iKw9o2EUNoRD"
      },
      "source": [
        ""
      ],
      "execution_count": null,
      "outputs": []
    }
  ]
}